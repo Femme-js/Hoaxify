{
  "nbformat": 4,
  "nbformat_minor": 0,
  "metadata": {
    "kernelspec": {
      "display_name": "Python 3",
      "language": "python",
      "name": "python3"
    },
    "language_info": {
      "codemirror_mode": {
        "name": "ipython",
        "version": 3
      },
      "file_extension": ".py",
      "mimetype": "text/x-python",
      "name": "python",
      "nbconvert_exporter": "python",
      "pygments_lexer": "ipython3",
      "version": "3.6.9"
    },
    "colab": {
      "name": "Final.ipynb.txt",
      "provenance": [],
      "collapsed_sections": [],
      "include_colab_link": true
    }
  },
  "cells": [
    {
      "cell_type": "markdown",
      "metadata": {
        "id": "view-in-github",
        "colab_type": "text"
      },
      "source": [
        "<a href=\"https://colab.research.google.com/github/Rishabhc711/Hoaxify/blob/master/Final.ipynb\" target=\"_parent\"><img src=\"https://colab.research.google.com/assets/colab-badge.svg\" alt=\"Open In Colab\"/></a>"
      ]
    },
    {
      "cell_type": "code",
      "metadata": {
        "id": "MdAVzqfOwGmS"
      },
      "source": [
        "#INCLUDE LIBRARIES\n",
        "\n",
        "\n",
        "import numpy as np\n",
        "import pandas as pd\n",
        "import re\n",
        "import itertools\n",
        "import nltk\n",
        "from nltk.corpus import stopwords\n",
        "from nltk.stem import WordNetLemmatizer\n",
        "from sklearn.model_selection import train_test_split\n",
        "from sklearn.feature_extraction.text import TfidfVectorizer\n",
        "import matplotlib.pyplot as plt\n",
        "\n",
        "\n",
        "from nltk import sent_tokenize, word_tokenize\n",
        "\n"
      ],
      "execution_count": 2,
      "outputs": []
    },
    {
      "cell_type": "code",
      "metadata": {
        "id": "nnRJ1ZhtwGma",
        "outputId": "7455aa5e-39f4-4143-e8d7-795b3a586630"
      },
      "source": [
        "from nltk.tokenize import word_tokenize\n",
        "text = \"Hello everyone. You are reading NLP article.\"\n",
        "word_tokenize(text)"
      ],
      "execution_count": null,
      "outputs": [
        {
          "output_type": "execute_result",
          "data": {
            "text/plain": [
              "['Hello', 'everyone', '.', 'You', 'are', 'reading', 'NLP', 'article', '.']"
            ]
          },
          "metadata": {
            "tags": []
          },
          "execution_count": 54
        }
      ]
    },
    {
      "cell_type": "code",
      "metadata": {
        "id": "9fVJMZXJwGmb",
        "outputId": "fc2748d4-7bf4-4ad1-95cc-e459a9a071bc"
      },
      "source": [
        "#Reading the data\n",
        "df=pd.read_csv('/home/femme_js/Hoaxify/news.csv')\n",
        "\n",
        "df.head(10)\n",
        "\n"
      ],
      "execution_count": null,
      "outputs": [
        {
          "output_type": "execute_result",
          "data": {
            "text/html": [
              "<div>\n",
              "<style scoped>\n",
              "    .dataframe tbody tr th:only-of-type {\n",
              "        vertical-align: middle;\n",
              "    }\n",
              "\n",
              "    .dataframe tbody tr th {\n",
              "        vertical-align: top;\n",
              "    }\n",
              "\n",
              "    .dataframe thead th {\n",
              "        text-align: right;\n",
              "    }\n",
              "</style>\n",
              "<table border=\"1\" class=\"dataframe\">\n",
              "  <thead>\n",
              "    <tr style=\"text-align: right;\">\n",
              "      <th></th>\n",
              "      <th>Unnamed: 0</th>\n",
              "      <th>title</th>\n",
              "      <th>text</th>\n",
              "      <th>label</th>\n",
              "    </tr>\n",
              "  </thead>\n",
              "  <tbody>\n",
              "    <tr>\n",
              "      <th>0</th>\n",
              "      <td>8476</td>\n",
              "      <td>You Can Smell Hillary’s Fear</td>\n",
              "      <td>Daniel Greenfield, a Shillman Journalism Fello...</td>\n",
              "      <td>FAKE</td>\n",
              "    </tr>\n",
              "    <tr>\n",
              "      <th>1</th>\n",
              "      <td>10294</td>\n",
              "      <td>Watch The Exact Moment Paul Ryan Committed Pol...</td>\n",
              "      <td>Google Pinterest Digg Linkedin Reddit Stumbleu...</td>\n",
              "      <td>FAKE</td>\n",
              "    </tr>\n",
              "    <tr>\n",
              "      <th>2</th>\n",
              "      <td>3608</td>\n",
              "      <td>Kerry to go to Paris in gesture of sympathy</td>\n",
              "      <td>U.S. Secretary of State John F. Kerry said Mon...</td>\n",
              "      <td>REAL</td>\n",
              "    </tr>\n",
              "    <tr>\n",
              "      <th>3</th>\n",
              "      <td>10142</td>\n",
              "      <td>Bernie supporters on Twitter erupt in anger ag...</td>\n",
              "      <td>— Kaydee King (@KaydeeKing) November 9, 2016 T...</td>\n",
              "      <td>FAKE</td>\n",
              "    </tr>\n",
              "    <tr>\n",
              "      <th>4</th>\n",
              "      <td>875</td>\n",
              "      <td>The Battle of New York: Why This Primary Matters</td>\n",
              "      <td>It's primary day in New York and front-runners...</td>\n",
              "      <td>REAL</td>\n",
              "    </tr>\n",
              "    <tr>\n",
              "      <th>5</th>\n",
              "      <td>6903</td>\n",
              "      <td>Tehran, USA</td>\n",
              "      <td>\\nI’m not an immigrant, but my grandparents ...</td>\n",
              "      <td>FAKE</td>\n",
              "    </tr>\n",
              "    <tr>\n",
              "      <th>6</th>\n",
              "      <td>7341</td>\n",
              "      <td>Girl Horrified At What She Watches Boyfriend D...</td>\n",
              "      <td>Share This Baylee Luciani (left), Screenshot o...</td>\n",
              "      <td>FAKE</td>\n",
              "    </tr>\n",
              "    <tr>\n",
              "      <th>7</th>\n",
              "      <td>95</td>\n",
              "      <td>‘Britain’s Schindler’ Dies at 106</td>\n",
              "      <td>A Czech stockbroker who saved more than 650 Je...</td>\n",
              "      <td>REAL</td>\n",
              "    </tr>\n",
              "    <tr>\n",
              "      <th>8</th>\n",
              "      <td>4869</td>\n",
              "      <td>Fact check: Trump and Clinton at the 'commande...</td>\n",
              "      <td>Hillary Clinton and Donald Trump made some ina...</td>\n",
              "      <td>REAL</td>\n",
              "    </tr>\n",
              "    <tr>\n",
              "      <th>9</th>\n",
              "      <td>2909</td>\n",
              "      <td>Iran reportedly makes new push for uranium con...</td>\n",
              "      <td>Iranian negotiators reportedly have made a las...</td>\n",
              "      <td>REAL</td>\n",
              "    </tr>\n",
              "  </tbody>\n",
              "</table>\n",
              "</div>"
            ],
            "text/plain": [
              "   Unnamed: 0                                              title  \\\n",
              "0        8476                       You Can Smell Hillary’s Fear   \n",
              "1       10294  Watch The Exact Moment Paul Ryan Committed Pol...   \n",
              "2        3608        Kerry to go to Paris in gesture of sympathy   \n",
              "3       10142  Bernie supporters on Twitter erupt in anger ag...   \n",
              "4         875   The Battle of New York: Why This Primary Matters   \n",
              "5        6903                                        Tehran, USA   \n",
              "6        7341  Girl Horrified At What She Watches Boyfriend D...   \n",
              "7          95                  ‘Britain’s Schindler’ Dies at 106   \n",
              "8        4869  Fact check: Trump and Clinton at the 'commande...   \n",
              "9        2909  Iran reportedly makes new push for uranium con...   \n",
              "\n",
              "                                                text label  \n",
              "0  Daniel Greenfield, a Shillman Journalism Fello...  FAKE  \n",
              "1  Google Pinterest Digg Linkedin Reddit Stumbleu...  FAKE  \n",
              "2  U.S. Secretary of State John F. Kerry said Mon...  REAL  \n",
              "3  — Kaydee King (@KaydeeKing) November 9, 2016 T...  FAKE  \n",
              "4  It's primary day in New York and front-runners...  REAL  \n",
              "5    \\nI’m not an immigrant, but my grandparents ...  FAKE  \n",
              "6  Share This Baylee Luciani (left), Screenshot o...  FAKE  \n",
              "7  A Czech stockbroker who saved more than 650 Je...  REAL  \n",
              "8  Hillary Clinton and Donald Trump made some ina...  REAL  \n",
              "9  Iranian negotiators reportedly have made a las...  REAL  "
            ]
          },
          "metadata": {
            "tags": []
          },
          "execution_count": 55
        }
      ]
    },
    {
      "cell_type": "code",
      "metadata": {
        "id": "kjysD29EwGmb",
        "outputId": "eb6a9053-fe24-479f-b6cb-022e63dc75d8"
      },
      "source": [
        "# checking if column have nan values\n",
        "\n",
        "check_nan_in_df = df.isnull()\n",
        "print (check_nan_in_df)\n",
        "\n",
        "\n"
      ],
      "execution_count": null,
      "outputs": [
        {
          "output_type": "stream",
          "text": [
            "      Unnamed: 0  title   text  label\n",
            "0          False  False  False  False\n",
            "1          False  False  False  False\n",
            "2          False  False  False  False\n",
            "3          False  False  False  False\n",
            "4          False  False  False  False\n",
            "...          ...    ...    ...    ...\n",
            "6330       False  False  False  False\n",
            "6331       False  False  False  False\n",
            "6332       False  False  False  False\n",
            "6333       False  False  False  False\n",
            "6334       False  False  False  False\n",
            "\n",
            "[6335 rows x 4 columns]\n"
          ],
          "name": "stdout"
        }
      ]
    },
    {
      "cell_type": "code",
      "metadata": {
        "id": "1ky9amFFwGmc"
      },
      "source": [
        "# as data dont have any NaN value, we dont need to fill them"
      ],
      "execution_count": null,
      "outputs": []
    },
    {
      "cell_type": "code",
      "metadata": {
        "id": "tsfWPHDAwGmc",
        "outputId": "1081082b-ce15-4643-c9db-1e6278f237e5"
      },
      "source": [
        "#Getting the Labels\n",
        "\n",
        "labels=df.label\n",
        "labels.head()"
      ],
      "execution_count": null,
      "outputs": [
        {
          "output_type": "execute_result",
          "data": {
            "text/plain": [
              "0    FAKE\n",
              "1    FAKE\n",
              "2    REAL\n",
              "3    FAKE\n",
              "4    REAL\n",
              "Name: label, dtype: object"
            ]
          },
          "metadata": {
            "tags": []
          },
          "execution_count": 58
        }
      ]
    },
    {
      "cell_type": "code",
      "metadata": {
        "id": "-X_9viQzwGmd",
        "outputId": "51e712a5-4bcb-4420-b28f-29bde46708be"
      },
      "source": [
        "# Combining important features into a single feature\n",
        "\n",
        "df['total'] = df['title'] + ' ' + df['text']\n",
        "\n",
        "df.head()"
      ],
      "execution_count": null,
      "outputs": [
        {
          "output_type": "execute_result",
          "data": {
            "text/html": [
              "<div>\n",
              "<style scoped>\n",
              "    .dataframe tbody tr th:only-of-type {\n",
              "        vertical-align: middle;\n",
              "    }\n",
              "\n",
              "    .dataframe tbody tr th {\n",
              "        vertical-align: top;\n",
              "    }\n",
              "\n",
              "    .dataframe thead th {\n",
              "        text-align: right;\n",
              "    }\n",
              "</style>\n",
              "<table border=\"1\" class=\"dataframe\">\n",
              "  <thead>\n",
              "    <tr style=\"text-align: right;\">\n",
              "      <th></th>\n",
              "      <th>Unnamed: 0</th>\n",
              "      <th>title</th>\n",
              "      <th>text</th>\n",
              "      <th>label</th>\n",
              "      <th>total</th>\n",
              "    </tr>\n",
              "  </thead>\n",
              "  <tbody>\n",
              "    <tr>\n",
              "      <th>0</th>\n",
              "      <td>8476</td>\n",
              "      <td>You Can Smell Hillary’s Fear</td>\n",
              "      <td>Daniel Greenfield, a Shillman Journalism Fello...</td>\n",
              "      <td>FAKE</td>\n",
              "      <td>You Can Smell Hillary’s Fear Daniel Greenfield...</td>\n",
              "    </tr>\n",
              "    <tr>\n",
              "      <th>1</th>\n",
              "      <td>10294</td>\n",
              "      <td>Watch The Exact Moment Paul Ryan Committed Pol...</td>\n",
              "      <td>Google Pinterest Digg Linkedin Reddit Stumbleu...</td>\n",
              "      <td>FAKE</td>\n",
              "      <td>Watch The Exact Moment Paul Ryan Committed Pol...</td>\n",
              "    </tr>\n",
              "    <tr>\n",
              "      <th>2</th>\n",
              "      <td>3608</td>\n",
              "      <td>Kerry to go to Paris in gesture of sympathy</td>\n",
              "      <td>U.S. Secretary of State John F. Kerry said Mon...</td>\n",
              "      <td>REAL</td>\n",
              "      <td>Kerry to go to Paris in gesture of sympathy U....</td>\n",
              "    </tr>\n",
              "    <tr>\n",
              "      <th>3</th>\n",
              "      <td>10142</td>\n",
              "      <td>Bernie supporters on Twitter erupt in anger ag...</td>\n",
              "      <td>— Kaydee King (@KaydeeKing) November 9, 2016 T...</td>\n",
              "      <td>FAKE</td>\n",
              "      <td>Bernie supporters on Twitter erupt in anger ag...</td>\n",
              "    </tr>\n",
              "    <tr>\n",
              "      <th>4</th>\n",
              "      <td>875</td>\n",
              "      <td>The Battle of New York: Why This Primary Matters</td>\n",
              "      <td>It's primary day in New York and front-runners...</td>\n",
              "      <td>REAL</td>\n",
              "      <td>The Battle of New York: Why This Primary Matte...</td>\n",
              "    </tr>\n",
              "  </tbody>\n",
              "</table>\n",
              "</div>"
            ],
            "text/plain": [
              "   Unnamed: 0                                              title  \\\n",
              "0        8476                       You Can Smell Hillary’s Fear   \n",
              "1       10294  Watch The Exact Moment Paul Ryan Committed Pol...   \n",
              "2        3608        Kerry to go to Paris in gesture of sympathy   \n",
              "3       10142  Bernie supporters on Twitter erupt in anger ag...   \n",
              "4         875   The Battle of New York: Why This Primary Matters   \n",
              "\n",
              "                                                text label  \\\n",
              "0  Daniel Greenfield, a Shillman Journalism Fello...  FAKE   \n",
              "1  Google Pinterest Digg Linkedin Reddit Stumbleu...  FAKE   \n",
              "2  U.S. Secretary of State John F. Kerry said Mon...  REAL   \n",
              "3  — Kaydee King (@KaydeeKing) November 9, 2016 T...  FAKE   \n",
              "4  It's primary day in New York and front-runners...  REAL   \n",
              "\n",
              "                                               total  \n",
              "0  You Can Smell Hillary’s Fear Daniel Greenfield...  \n",
              "1  Watch The Exact Moment Paul Ryan Committed Pol...  \n",
              "2  Kerry to go to Paris in gesture of sympathy U....  \n",
              "3  Bernie supporters on Twitter erupt in anger ag...  \n",
              "4  The Battle of New York: Why This Primary Matte...  "
            ]
          },
          "metadata": {
            "tags": []
          },
          "execution_count": 59
        }
      ]
    },
    {
      "cell_type": "code",
      "metadata": {
        "id": "13Aex96vwGmd"
      },
      "source": [
        "#PRE-PROCESSING THE DATA\n"
      ],
      "execution_count": null,
      "outputs": []
    },
    {
      "cell_type": "code",
      "metadata": {
        "id": "91U0zkFhwGme",
        "outputId": "92f54a8f-770c-42a7-9503-d5ffd46805c3"
      },
      "source": [
        "\n",
        "stop_words = stopwords.words('english')\n",
        "\n",
        "lemmatizer = WordNetLemmatizer()\n",
        "\n",
        "for index, row in df.iterrows():\n",
        "    filter_sentence = ''\n",
        "    sentence = row['total']\n",
        "    # Cleaning the sentence with regex\n",
        "    sentence = re.sub(r'[^\\w\\s]', '', sentence)\n",
        "    # Tokenization\n",
        "    words = nltk.word_tokenize(sentence)\n",
        "    # Stopwords removal\n",
        "    words = [w for w in words if not w in stop_words]\n",
        "    # Lemmatization\n",
        "    for words in words:\n",
        "        filter_sentence = filter_sentence  + ' ' + str(lemmatizer.lemmatize(words)).lower()\n",
        "    \n",
        "    df.loc[index, 'total'] = filter_sentence\n",
        "\n",
        "df.head()"
      ],
      "execution_count": null,
      "outputs": [
        {
          "output_type": "execute_result",
          "data": {
            "text/html": [
              "<div>\n",
              "<style scoped>\n",
              "    .dataframe tbody tr th:only-of-type {\n",
              "        vertical-align: middle;\n",
              "    }\n",
              "\n",
              "    .dataframe tbody tr th {\n",
              "        vertical-align: top;\n",
              "    }\n",
              "\n",
              "    .dataframe thead th {\n",
              "        text-align: right;\n",
              "    }\n",
              "</style>\n",
              "<table border=\"1\" class=\"dataframe\">\n",
              "  <thead>\n",
              "    <tr style=\"text-align: right;\">\n",
              "      <th></th>\n",
              "      <th>Unnamed: 0</th>\n",
              "      <th>title</th>\n",
              "      <th>text</th>\n",
              "      <th>label</th>\n",
              "      <th>total</th>\n",
              "    </tr>\n",
              "  </thead>\n",
              "  <tbody>\n",
              "    <tr>\n",
              "      <th>0</th>\n",
              "      <td>8476</td>\n",
              "      <td>You Can Smell Hillary’s Fear</td>\n",
              "      <td>Daniel Greenfield, a Shillman Journalism Fello...</td>\n",
              "      <td>FAKE</td>\n",
              "      <td>smell hillary fear daniel greenfield shillman...</td>\n",
              "    </tr>\n",
              "    <tr>\n",
              "      <th>1</th>\n",
              "      <td>10294</td>\n",
              "      <td>Watch The Exact Moment Paul Ryan Committed Pol...</td>\n",
              "      <td>Google Pinterest Digg Linkedin Reddit Stumbleu...</td>\n",
              "      <td>FAKE</td>\n",
              "      <td>watch exact moment paul ryan committed politi...</td>\n",
              "    </tr>\n",
              "    <tr>\n",
              "      <th>2</th>\n",
              "      <td>3608</td>\n",
              "      <td>Kerry to go to Paris in gesture of sympathy</td>\n",
              "      <td>U.S. Secretary of State John F. Kerry said Mon...</td>\n",
              "      <td>REAL</td>\n",
              "      <td>kerry go paris gesture sympathy u secretary s...</td>\n",
              "    </tr>\n",
              "    <tr>\n",
              "      <th>3</th>\n",
              "      <td>10142</td>\n",
              "      <td>Bernie supporters on Twitter erupt in anger ag...</td>\n",
              "      <td>— Kaydee King (@KaydeeKing) November 9, 2016 T...</td>\n",
              "      <td>FAKE</td>\n",
              "      <td>bernie supporter twitter erupt anger dnc trie...</td>\n",
              "    </tr>\n",
              "    <tr>\n",
              "      <th>4</th>\n",
              "      <td>875</td>\n",
              "      <td>The Battle of New York: Why This Primary Matters</td>\n",
              "      <td>It's primary day in New York and front-runners...</td>\n",
              "      <td>REAL</td>\n",
              "      <td>battle new york primary matter primary day ne...</td>\n",
              "    </tr>\n",
              "  </tbody>\n",
              "</table>\n",
              "</div>"
            ],
            "text/plain": [
              "   Unnamed: 0                                              title  \\\n",
              "0        8476                       You Can Smell Hillary’s Fear   \n",
              "1       10294  Watch The Exact Moment Paul Ryan Committed Pol...   \n",
              "2        3608        Kerry to go to Paris in gesture of sympathy   \n",
              "3       10142  Bernie supporters on Twitter erupt in anger ag...   \n",
              "4         875   The Battle of New York: Why This Primary Matters   \n",
              "\n",
              "                                                text label  \\\n",
              "0  Daniel Greenfield, a Shillman Journalism Fello...  FAKE   \n",
              "1  Google Pinterest Digg Linkedin Reddit Stumbleu...  FAKE   \n",
              "2  U.S. Secretary of State John F. Kerry said Mon...  REAL   \n",
              "3  — Kaydee King (@KaydeeKing) November 9, 2016 T...  FAKE   \n",
              "4  It's primary day in New York and front-runners...  REAL   \n",
              "\n",
              "                                               total  \n",
              "0   smell hillary fear daniel greenfield shillman...  \n",
              "1   watch exact moment paul ryan committed politi...  \n",
              "2   kerry go paris gesture sympathy u secretary s...  \n",
              "3   bernie supporter twitter erupt anger dnc trie...  \n",
              "4   battle new york primary matter primary day ne...  "
            ]
          },
          "metadata": {
            "tags": []
          },
          "execution_count": 62
        }
      ]
    },
    {
      "cell_type": "code",
      "metadata": {
        "id": "Rz6usQf9wGme",
        "outputId": "f33bf608-11f4-41a7-95c6-be05c5129060"
      },
      "source": [
        "df['total'].head()"
      ],
      "execution_count": null,
      "outputs": [
        {
          "output_type": "execute_result",
          "data": {
            "text/plain": [
              "0     smell hillary fear daniel greenfield shillman...\n",
              "1     watch exact moment paul ryan committed politi...\n",
              "2     kerry go paris gesture sympathy u secretary s...\n",
              "3     bernie supporter twitter erupt anger dnc trie...\n",
              "4     battle new york primary matter primary day ne...\n",
              "Name: total, dtype: object"
            ]
          },
          "metadata": {
            "tags": []
          },
          "execution_count": 63
        }
      ]
    },
    {
      "cell_type": "code",
      "metadata": {
        "id": "M1nwNConwGmf",
        "outputId": "4b6c4a29-7190-4b58-b1c9-64b954387a6f"
      },
      "source": [
        "print(type(df['label']))"
      ],
      "execution_count": null,
      "outputs": [
        {
          "output_type": "stream",
          "text": [
            "<class 'pandas.core.series.Series'>\n"
          ],
          "name": "stdout"
        }
      ]
    },
    {
      "cell_type": "code",
      "metadata": {
        "id": "2Ox8Ef7vwGmf",
        "outputId": "27f32879-7757-454f-ca6a-d74fe970ce16"
      },
      "source": [
        "df['label'].value_counts().plot(kind = 'bar')"
      ],
      "execution_count": null,
      "outputs": [
        {
          "output_type": "execute_result",
          "data": {
            "text/plain": [
              "<matplotlib.axes._subplots.AxesSubplot at 0x7f65b3e72978>"
            ]
          },
          "metadata": {
            "tags": []
          },
          "execution_count": 65
        },
        {
          "output_type": "display_data",
          "data": {
            "image/png": "[encoded data removed]",
            "text/plain": [
              "<Figure size 432x288 with 1 Axes>"
            ]
          },
          "metadata": {
            "tags": [],
            "needs_background": "light"
          }
        }
      ]
    },
    {
      "cell_type": "code",
      "metadata": {
        "colab": {
          "base_uri": "https://localhost:8080/"
        },
        "id": "EWxNWtaLwGmg",
        "outputId": "0d46397d-187a-46cc-ef85-b180bdbd93e1"
      },
      "source": [
        "df.label = df.label.astype(str)\n",
        "df.label.unique()\n"
      ],
      "execution_count": 4,
      "outputs": [
        {
          "output_type": "execute_result",
          "data": {
            "text/plain": [
              "array(['FAKE', 'REAL'], dtype=object)"
            ]
          },
          "metadata": {
            "tags": []
          },
          "execution_count": 4
        }
      ]
    },
    {
      "cell_type": "code",
      "metadata": {
        "colab": {
          "base_uri": "https://localhost:8080/"
        },
        "id": "B9fusoxAwGmg",
        "outputId": "29e3e791-352a-4cfd-9c49-8a7e53dc93c3"
      },
      "source": [
        "df.label = df.label.astype(str)\n",
        "df.label = df.label.str.strip()\n",
        "\n",
        "\n",
        "dict = { 'REAL' : '1' , 'FAKE' : '0'}\n",
        "\n",
        "df['label'] = df['label'].map(dict)\n",
        "\n",
        "df['label'].head()"
      ],
      "execution_count": 5,
      "outputs": [
        {
          "output_type": "execute_result",
          "data": {
            "text/plain": [
              "0    0\n",
              "1    0\n",
              "2    1\n",
              "3    0\n",
              "4    1\n",
              "Name: label, dtype: object"
            ]
          },
          "metadata": {
            "tags": []
          },
          "execution_count": 5
        }
      ]
    },
    {
      "cell_type": "code",
      "metadata": {
        "id": "kH9wAauYwGmh"
      },
      "source": [
        "x_df = df['total']\n",
        "y_df = df['label']"
      ],
      "execution_count": 6,
      "outputs": []
    },
    {
      "cell_type": "code",
      "metadata": {
        "colab": {
          "base_uri": "https://localhost:8080/"
        },
        "id": "DPxFPnLswGmh",
        "outputId": "67a661c8-e272-46ef-b84c-3305cfc68cb7"
      },
      "source": [
        "x_df.head()"
      ],
      "execution_count": 7,
      "outputs": [
        {
          "output_type": "execute_result",
          "data": {
            "text/plain": [
              "0     you can smell hillarys fear daniel greenfield...\n",
              "1     watch the exact moment paul ryan committed po...\n",
              "2     kerry go paris gesture sympathy us secretary ...\n",
              "3     bernie supporter twitter erupt anger dnc we t...\n",
              "4     the battle new york why this primary matters ...\n",
              "Name: total, dtype: object"
            ]
          },
          "metadata": {
            "tags": []
          },
          "execution_count": 7
        }
      ]
    },
    {
      "cell_type": "code",
      "metadata": {
        "colab": {
          "base_uri": "https://localhost:8080/"
        },
        "id": "ujPxlDuCwGmh",
        "outputId": "31030a2e-9192-41fe-f039-127354691f6d"
      },
      "source": [
        "y_df.head()"
      ],
      "execution_count": 8,
      "outputs": [
        {
          "output_type": "execute_result",
          "data": {
            "text/plain": [
              "0    0\n",
              "1    0\n",
              "2    1\n",
              "3    0\n",
              "4    1\n",
              "Name: label, dtype: object"
            ]
          },
          "metadata": {
            "tags": []
          },
          "execution_count": 8
        }
      ]
    },
    {
      "cell_type": "code",
      "metadata": {
        "id": "HWKlp7ugwGmi"
      },
      "source": [
        "#VECOTRIZATION\n"
      ],
      "execution_count": 9,
      "outputs": []
    },
    {
      "cell_type": "code",
      "metadata": {
        "colab": {
          "base_uri": "https://localhost:8080/"
        },
        "id": "B4Zz8i5FwGmi",
        "outputId": "3b7d5998-f7c3-4ddb-9092-65a86ea8f007"
      },
      "source": [
        "from sklearn.feature_extraction.text import TfidfTransformer\n",
        "from sklearn.feature_extraction.text import CountVectorizer\n",
        "from sklearn.feature_extraction.text import TfidfVectorizer\n",
        "\n",
        "\n",
        "\n",
        "count_vectorizer = CountVectorizer()\n",
        "count_vectorizer.fit_transform(x_df)\n",
        "freq_term_matrix = count_vectorizer.transform(x_df)\n",
        "\n",
        "tfidf = TfidfTransformer(norm = \"l2\")\n",
        "tfidf.fit(freq_term_matrix)\n",
        "tf_idf_matrix = tfidf.fit_transform(freq_term_matrix)\n",
        "\n",
        "print(tf_idf_matrix)"
      ],
      "execution_count": 10,
      "outputs": [
        {
          "output_type": "stream",
          "text": [
            "  (0, 84103)\t0.02880344134538735\n",
            "  (0, 84077)\t0.03002128664210717\n",
            "  (0, 83877)\t0.018607343328196482\n",
            "  (0, 83514)\t0.03653774133019167\n",
            "  (0, 83492)\t0.023707364893939736\n",
            "  (0, 83447)\t0.03586754816546842\n",
            "  (0, 83403)\t0.02695875045200971\n",
            "  (0, 83396)\t0.019835943175965133\n",
            "  (0, 83392)\t0.008585159602852022\n",
            "  (0, 83218)\t0.01572657851425174\n",
            "  (0, 83110)\t0.014470516380511316\n",
            "  (0, 83004)\t0.027822220268486773\n",
            "  (0, 83003)\t0.016460792307242865\n",
            "  (0, 82929)\t0.03833530820382529\n",
            "  (0, 82841)\t0.024379366941566442\n",
            "  (0, 82678)\t0.0346212287472953\n",
            "  (0, 82578)\t0.035082475533552405\n",
            "  (0, 82545)\t0.018051125993657446\n",
            "  (0, 82391)\t0.013651104872461956\n",
            "  (0, 82373)\t0.014279148105824169\n",
            "  (0, 82346)\t0.018685412875057213\n",
            "  (0, 82339)\t0.060996642075652405\n",
            "  (0, 82073)\t0.01138273361804669\n",
            "  (0, 82023)\t0.03043943380028792\n",
            "  (0, 81896)\t0.04220672992179989\n",
            "  :\t:\n",
            "  (6334, 9343)\t0.06663788710149954\n",
            "  (6334, 9341)\t0.09390119973816259\n",
            "  (6334, 9232)\t0.01929156802079928\n",
            "  (6334, 8729)\t0.01751752612849853\n",
            "  (6334, 8631)\t0.03314648822581055\n",
            "  (6334, 8584)\t0.032880405646402766\n",
            "  (6334, 8554)\t0.026438677499817233\n",
            "  (6334, 8334)\t0.05165463029655788\n",
            "  (6334, 8267)\t0.0388071381665498\n",
            "  (6334, 8241)\t0.02574196238544902\n",
            "  (6334, 8238)\t0.02645424254375812\n",
            "  (6334, 8232)\t0.05462537789001593\n",
            "  (6334, 8105)\t0.034228756253996344\n",
            "  (6334, 7424)\t0.030982509754340935\n",
            "  (6334, 7333)\t0.013646914039640313\n",
            "  (6334, 7322)\t0.03816721468972994\n",
            "  (6334, 6849)\t0.023263047270567164\n",
            "  (6334, 6547)\t0.03273257191471888\n",
            "  (6334, 5935)\t0.028738104471802604\n",
            "  (6334, 5540)\t0.03251624806904254\n",
            "  (6334, 5056)\t0.016593482188606904\n",
            "  (6334, 3644)\t0.05685197265050367\n",
            "  (6334, 2203)\t0.02661173208457374\n",
            "  (6334, 2181)\t0.04498306799598561\n",
            "  (6334, 1838)\t0.015008031312217405\n"
          ],
          "name": "stdout"
        }
      ]
    },
    {
      "cell_type": "code",
      "metadata": {
        "id": "hi2MeXnjwGmi"
      },
      "source": [
        "#Splitting data into train and test data\n",
        "\n",
        "x_train, x_test, y_train, y_test = train_test_split(tf_idf_matrix,\n",
        "                                   y_df, random_state=0)"
      ],
      "execution_count": 11,
      "outputs": []
    },
    {
      "cell_type": "code",
      "metadata": {
        "id": "DlYutmVwwGmj"
      },
      "source": [
        "#Implementing DIfferent Models and checking accuracy\n"
      ],
      "execution_count": 12,
      "outputs": []
    },
    {
      "cell_type": "code",
      "metadata": {
        "colab": {
          "base_uri": "https://localhost:8080/"
        },
        "id": "KNx0-RkmwGmj",
        "outputId": "dbd1be4e-fc60-4f59-d8fb-7775cd87bccd"
      },
      "source": [
        "y_train.head()"
      ],
      "execution_count": 13,
      "outputs": [
        {
          "output_type": "execute_result",
          "data": {
            "text/plain": [
              "1957    1\n",
              "5016    1\n",
              "3166    1\n",
              "811     0\n",
              "3389    1\n",
              "Name: label, dtype: object"
            ]
          },
          "metadata": {
            "tags": []
          },
          "execution_count": 13
        }
      ]
    },
    {
      "cell_type": "code",
      "metadata": {
        "colab": {
          "base_uri": "https://localhost:8080/"
        },
        "id": "v_scpTcjwGmj",
        "outputId": "570df87d-72e6-438a-ad92-d16e38f1f4f3"
      },
      "source": [
        "#LOGISTIC REGRESSION\n",
        "\n",
        "\n",
        "from sklearn.linear_model import LogisticRegression\n",
        "\n",
        "logreg = LogisticRegression()\n",
        "logreg.fit(x_train, y_train)\n",
        "Accuracy = logreg.score(x_test, y_test)\n",
        "\n",
        "print(Accuracy*100)"
      ],
      "execution_count": 14,
      "outputs": [
        {
          "output_type": "stream",
          "text": [
            "91.72979797979798\n"
          ],
          "name": "stdout"
        }
      ]
    },
    {
      "cell_type": "code",
      "metadata": {
        "colab": {
          "base_uri": "https://localhost:8080/"
        },
        "id": "wt4QZNMqwGmk",
        "outputId": "80272a91-9a21-4d4b-8162-80aa6c00eb4c"
      },
      "source": [
        "#NAIVE BAYES\n",
        "\n",
        "from sklearn.naive_bayes import MultinomialNB\n",
        "\n",
        "\n",
        "NB = MultinomialNB()\n",
        "NB.fit(x_train, y_train)\n",
        "Accuracy = NB.score(x_test, y_test)\n",
        "\n",
        "print(Accuracy*100)"
      ],
      "execution_count": 15,
      "outputs": [
        {
          "output_type": "stream",
          "text": [
            "82.32323232323232\n"
          ],
          "name": "stdout"
        }
      ]
    },
    {
      "cell_type": "code",
      "metadata": {
        "colab": {
          "base_uri": "https://localhost:8080/"
        },
        "id": "KAOk0BpjwGmk",
        "outputId": "d22f3aa3-f1ec-47f8-d7bc-ca4dca5b9f55"
      },
      "source": [
        "# DECISION TREE\n",
        "\n",
        "from sklearn.tree import DecisionTreeClassifier\n",
        "\n",
        "\n",
        "clf = DecisionTreeClassifier()\n",
        "clf.fit(x_train, y_train)\n",
        "Accuracy = clf.score(x_test, y_test)\n",
        "\n",
        "print(Accuracy*100)"
      ],
      "execution_count": 16,
      "outputs": [
        {
          "output_type": "stream",
          "text": [
            "80.93434343434343\n"
          ],
          "name": "stdout"
        }
      ]
    },
    {
      "cell_type": "code",
      "metadata": {
        "colab": {
          "base_uri": "https://localhost:8080/"
        },
        "id": "gsZTW5zewGmk",
        "outputId": "b588f0bf-707b-4bb3-e2fe-7c75d0885fab"
      },
      "source": [
        "# PASSIVE-AGGRESSIVE CLASSIFIER\n",
        "\n",
        "from sklearn.metrics import accuracy_score\n",
        "\n",
        "from sklearn.linear_model import PassiveAggressiveClassifier\n",
        "\n",
        "#DataFlair - Initialize a PassiveAggressiveClassifier\n",
        "pac=PassiveAggressiveClassifier(max_iter=50)\n",
        "pac.fit(x_train,y_train)\n",
        "#DataFlair - Predict on the test set and calculate accuracy\n",
        "y_pred=pac.predict(x_test)\n",
        "score=accuracy_score(y_test,y_pred)\n",
        "\n",
        "print(f'Accuracy: {round(score*100,2)}%')\n",
        "\n",
        "\n"
      ],
      "execution_count": 17,
      "outputs": [
        {
          "output_type": "stream",
          "text": [
            "Accuracy: 94.07%\n"
          ],
          "name": "stdout"
        }
      ]
    },
    {
      "cell_type": "code",
      "metadata": {
        "colab": {
          "base_uri": "https://localhost:8080/"
        },
        "id": "J35xQeYuwGml",
        "outputId": "e7e91e80-0435-4854-b3a0-af545ddffb9c"
      },
      "source": [
        "# KNN CLASSIFIER\r\n",
        " \r\n",
        "from sklearn.neighbors import KNeighborsClassifier\r\n",
        "\r\n",
        "c2 = KNeighborsClassifier()\r\n",
        "c2.fit(x_train, y_train)\r\n",
        "Accuracy = c2.score(x_test, y_test)\r\n",
        "\r\n",
        "print(Accuracy*100)"
      ],
      "execution_count": 18,
      "outputs": [
        {
          "output_type": "stream",
          "text": [
            "82.51262626262627\n"
          ],
          "name": "stdout"
        }
      ]
    },
    {
      "cell_type": "code",
      "metadata": {
        "colab": {
          "base_uri": "https://localhost:8080/"
        },
        "id": "yVNaLPwzwGml",
        "outputId": "2aad115a-b15f-4ad0-8deb-a6a6de30e3af"
      },
      "source": [
        "# SUPPORT VECTOR CLASSIFIER\r\n",
        " \r\n",
        "from sklearn.svm import LinearSVC\r\n",
        "\r\n",
        "c3 = LinearSVC()\r\n",
        "c3.fit(x_train, y_train)\r\n",
        "Accuracy = c3.score(x_test, y_test)\r\n",
        "\r\n",
        "print(Accuracy*100)"
      ],
      "execution_count": 19,
      "outputs": [
        {
          "output_type": "stream",
          "text": [
            "93.81313131313132\n"
          ],
          "name": "stdout"
        }
      ]
    },
    {
      "cell_type": "code",
      "metadata": {
        "colab": {
          "base_uri": "https://localhost:8080/"
        },
        "id": "Vt3RN2QVySua",
        "outputId": "1d19a080-7090-4cd5-d4f5-4476737257aa"
      },
      "source": [
        "# RANDOM FOREST CLASSIFIER\r\n",
        "\r\n",
        "from sklearn.ensemble import RandomForestClassifier\r\n",
        "\r\n",
        "c6 = RandomForestClassifier(n_estimators = 70, criterion = 'entropy', random_state = 0)\r\n",
        "c6.fit(x_train, y_train)\r\n",
        "Accuracy = c6.score(x_test, y_test)\r\n",
        "\r\n",
        "print(Accuracy*100)"
      ],
      "execution_count": 23,
      "outputs": [
        {
          "output_type": "stream",
          "text": [
            "90.59343434343434\n"
          ],
          "name": "stdout"
        }
      ]
    },
    {
      "cell_type": "code",
      "metadata": {
        "colab": {
          "base_uri": "https://localhost:8080/"
        },
        "id": "RugwaZcgyuzD",
        "outputId": "3f04fb8a-bfbc-44e7-dfb7-7a93e95d1eb8"
      },
      "source": [
        "# ENSEMBLE METHOD - COMBINING ALL MODELS \r\n",
        "from sklearn.ensemble import VotingClassifier\r\n",
        "\r\n",
        "ens1 = VotingClassifier( estimators= [('LR',logreg),('NB',NB),('DT',clf),('PAC',pac),('KNN',c2),('SVC',c3),('RF',c6)], voting = 'hard')\r\n",
        "\r\n",
        "\r\n",
        "ens1.fit(x_train, y_train)\r\n",
        "Accuracy = ens1.score(x_test, y_test)\r\n",
        "\r\n",
        "print(Accuracy*100)"
      ],
      "execution_count": 30,
      "outputs": [
        {
          "output_type": "stream",
          "text": [
            "93.43434343434343\n"
          ],
          "name": "stdout"
        }
      ]
    },
    {
      "cell_type": "markdown",
      "metadata": {
        "id": "GKae-kpx0pow"
      },
      "source": [
        "No change in the accuracy at all. This just shows that the Naive Bayes, Decision tree and KNN classifier added very little to the accuracy of the ensemble model."
      ]
    },
    {
      "cell_type": "code",
      "metadata": {
        "colab": {
          "base_uri": "https://localhost:8080/"
        },
        "id": "KupDb0er0kr3",
        "outputId": "b15f4f2c-0639-4eeb-a047-23e1085dc1bf"
      },
      "source": [
        "# ENSEMBLE METHOD - COMBINING ALL MODELS THAT HAVE ACCURACY > 90% \r\n",
        "\r\n",
        "ens2 = VotingClassifier( estimators= [('LR',logreg),('PAC',pac),('SVC',c3),('RF',c6)], voting = 'hard')\r\n",
        "\r\n",
        "\r\n",
        "ens2.fit(x_train, y_train)\r\n",
        "Accuracy = ens2.score(x_test, y_test)\r\n",
        "\r\n",
        "print(Accuracy*100)"
      ],
      "execution_count": 39,
      "outputs": [
        {
          "output_type": "stream",
          "text": [
            "93.49747474747475\n"
          ],
          "name": "stdout"
        }
      ]
    },
    {
      "cell_type": "code",
      "metadata": {
        "colab": {
          "base_uri": "https://localhost:8080/"
        },
        "id": "doB9aOQY0AY0",
        "outputId": "fa83c125-a838-45f6-f885-48ce42c31aad"
      },
      "source": [
        "# ENSEMBLE METHOD - COMBINING ALL MODELS THAT HAVE ACCURACY > 91% \r\n",
        "\r\n",
        "ens3 = VotingClassifier( estimators= [('LR',logreg),('PAC',pac),('SVC',c3)], voting = 'hard')\r\n",
        "\r\n",
        "\r\n",
        "ens3.fit(x_train, y_train)\r\n",
        "Accuracy = ens3.score(x_test, y_test)\r\n",
        "\r\n",
        "print(Accuracy*100)"
      ],
      "execution_count": 40,
      "outputs": [
        {
          "output_type": "stream",
          "text": [
            "93.81313131313132\n"
          ],
          "name": "stdout"
        }
      ]
    },
    {
      "cell_type": "code",
      "metadata": {
        "colab": {
          "base_uri": "https://localhost:8080/"
        },
        "id": "gtFKmdbp1SXo",
        "outputId": "d73478d3-dc1c-44af-df3e-adb4e92fc1b6"
      },
      "source": [
        "# ENSEMBLE METHOD - COMBINING top two models\r\n",
        "\r\n",
        "ens4 = VotingClassifier( estimators= [('PAC',pac),('SVC',c3)], voting = 'hard')\r\n",
        "\r\n",
        "ens4.fit(x_train, y_train)\r\n",
        "Accuracy = ens4.score(x_test, y_test)\r\n",
        "\r\n",
        "print(Accuracy*100)"
      ],
      "execution_count": 41,
      "outputs": [
        {
          "output_type": "stream",
          "text": [
            "93.87626262626263\n"
          ],
          "name": "stdout"
        }
      ]
    }
  ]
}