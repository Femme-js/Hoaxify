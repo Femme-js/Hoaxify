{
  "nbformat": 4,
  "nbformat_minor": 0,
  "metadata": {
    "kernelspec": {
      "display_name": "Python 3",
      "language": "python",
      "name": "python3"
    },
    "language_info": {
      "codemirror_mode": {
        "name": "ipython",
        "version": 3
      },
      "file_extension": ".py",
      "mimetype": "text/x-python",
      "name": "python",
      "nbconvert_exporter": "python",
      "pygments_lexer": "ipython3",
      "version": "3.6.12"
    },
    "colab": {
      "name": "Final.ipynb",
      "provenance": [],
      "collapsed_sections": []
    }
  },
  "cells": [
    {
      "cell_type": "code",
      "metadata": {
        "id": "OapZE5YgYRDo"
      },
      "source": [
        "#INCLUDE LIBRARIES\n",
        "\n",
        "\n",
        "import numpy as np\n",
        "import pandas as pd\n",
        "import re\n",
        "import itertools\n",
        "import nltk\n",
        "from nltk.corpus import stopwords\n",
        "from nltk.stem import WordNetLemmatizer\n",
        "from sklearn.model_selection import train_test_split\n",
        "from sklearn.feature_extraction.text import TfidfVectorizer\n",
        "import matplotlib.pyplot as plt\n",
        "\n",
        "\n",
        "from nltk import sent_tokenize, word_tokenize\n",
        "\n"
      ],
      "execution_count": 50,
      "outputs": []
    },
    {
      "cell_type": "code",
      "metadata": {
        "colab": {
          "base_uri": "https://localhost:8080/"
        },
        "id": "e_iyBPhkYRDs",
        "outputId": "27ce3740-d966-4fcd-b351-d2dd3dc4116e"
      },
      "source": [
        "from nltk.tokenize import word_tokenize\n",
        "text = \"Hello everyone. You are reading NLP article.\"\n",
        "word_tokenize(text)"
      ],
      "execution_count": 51,
      "outputs": [
        {
          "output_type": "execute_result",
          "data": {
            "text/plain": [
              "['Hello', 'everyone', '.', 'You', 'are', 'reading', 'NLP', 'article', '.']"
            ]
          },
          "metadata": {
            "tags": []
          },
          "execution_count": 51
        }
      ]
    },
    {
      "cell_type": "code",
      "metadata": {
        "colab": {
          "base_uri": "https://localhost:8080/",
          "height": 359
        },
        "id": "iEfyfQBlYRDu",
        "outputId": "c2950e79-43b9-4ff2-aa1e-6ed3ac600544"
      },
      "source": [
        "#Reading the data\n",
        "df=pd.read_csv('/home/femme_js/Hoaxify/news.csv')\n",
        "\n",
        "df.head(10)\n",
        "\n"
      ],
      "execution_count": 53,
      "outputs": [
        {
          "output_type": "execute_result",
          "data": {
            "text/html": [
              "<div>\n",
              "<style scoped>\n",
              "    .dataframe tbody tr th:only-of-type {\n",
              "        vertical-align: middle;\n",
              "    }\n",
              "\n",
              "    .dataframe tbody tr th {\n",
              "        vertical-align: top;\n",
              "    }\n",
              "\n",
              "    .dataframe thead th {\n",
              "        text-align: right;\n",
              "    }\n",
              "</style>\n",
              "<table border=\"1\" class=\"dataframe\">\n",
              "  <thead>\n",
              "    <tr style=\"text-align: right;\">\n",
              "      <th></th>\n",
              "      <th>Unnamed: 0</th>\n",
              "      <th>title</th>\n",
              "      <th>text</th>\n",
              "      <th>label</th>\n",
              "    </tr>\n",
              "  </thead>\n",
              "  <tbody>\n",
              "    <tr>\n",
              "      <th>0</th>\n",
              "      <td>8476</td>\n",
              "      <td>You Can Smell Hillary’s Fear</td>\n",
              "      <td>Daniel Greenfield, a Shillman Journalism Fello...</td>\n",
              "      <td>FAKE</td>\n",
              "    </tr>\n",
              "    <tr>\n",
              "      <th>1</th>\n",
              "      <td>10294</td>\n",
              "      <td>Watch The Exact Moment Paul Ryan Committed Pol...</td>\n",
              "      <td>Google Pinterest Digg Linkedin Reddit Stumbleu...</td>\n",
              "      <td>FAKE</td>\n",
              "    </tr>\n",
              "    <tr>\n",
              "      <th>2</th>\n",
              "      <td>3608</td>\n",
              "      <td>Kerry to go to Paris in gesture of sympathy</td>\n",
              "      <td>U.S. Secretary of State John F. Kerry said Mon...</td>\n",
              "      <td>REAL</td>\n",
              "    </tr>\n",
              "    <tr>\n",
              "      <th>3</th>\n",
              "      <td>10142</td>\n",
              "      <td>Bernie supporters on Twitter erupt in anger ag...</td>\n",
              "      <td>— Kaydee King (@KaydeeKing) November 9, 2016 T...</td>\n",
              "      <td>FAKE</td>\n",
              "    </tr>\n",
              "    <tr>\n",
              "      <th>4</th>\n",
              "      <td>875</td>\n",
              "      <td>The Battle of New York: Why This Primary Matters</td>\n",
              "      <td>It's primary day in New York and front-runners...</td>\n",
              "      <td>REAL</td>\n",
              "    </tr>\n",
              "    <tr>\n",
              "      <th>5</th>\n",
              "      <td>6903</td>\n",
              "      <td>Tehran, USA</td>\n",
              "      <td>\\nI’m not an immigrant, but my grandparents ...</td>\n",
              "      <td>FAKE</td>\n",
              "    </tr>\n",
              "    <tr>\n",
              "      <th>6</th>\n",
              "      <td>7341</td>\n",
              "      <td>Girl Horrified At What She Watches Boyfriend D...</td>\n",
              "      <td>Share This Baylee Luciani (left), Screenshot o...</td>\n",
              "      <td>FAKE</td>\n",
              "    </tr>\n",
              "    <tr>\n",
              "      <th>7</th>\n",
              "      <td>95</td>\n",
              "      <td>‘Britain’s Schindler’ Dies at 106</td>\n",
              "      <td>A Czech stockbroker who saved more than 650 Je...</td>\n",
              "      <td>REAL</td>\n",
              "    </tr>\n",
              "    <tr>\n",
              "      <th>8</th>\n",
              "      <td>4869</td>\n",
              "      <td>Fact check: Trump and Clinton at the 'commande...</td>\n",
              "      <td>Hillary Clinton and Donald Trump made some ina...</td>\n",
              "      <td>REAL</td>\n",
              "    </tr>\n",
              "    <tr>\n",
              "      <th>9</th>\n",
              "      <td>2909</td>\n",
              "      <td>Iran reportedly makes new push for uranium con...</td>\n",
              "      <td>Iranian negotiators reportedly have made a las...</td>\n",
              "      <td>REAL</td>\n",
              "    </tr>\n",
              "  </tbody>\n",
              "</table>\n",
              "</div>"
            ],
            "text/plain": [
              "   Unnamed: 0  ... label\n",
              "0        8476  ...  FAKE\n",
              "1       10294  ...  FAKE\n",
              "2        3608  ...  REAL\n",
              "3       10142  ...  FAKE\n",
              "4         875  ...  REAL\n",
              "5        6903  ...  FAKE\n",
              "6        7341  ...  FAKE\n",
              "7          95  ...  REAL\n",
              "8        4869  ...  REAL\n",
              "9        2909  ...  REAL\n",
              "\n",
              "[10 rows x 4 columns]"
            ]
          },
          "metadata": {
            "tags": []
          },
          "execution_count": 53
        }
      ]
    },
    {
      "cell_type": "code",
      "metadata": {
        "colab": {
          "base_uri": "https://localhost:8080/"
        },
        "id": "Z72kl5VDYRDv",
        "outputId": "7aa35422-0071-42b1-c530-126505dc3aef"
      },
      "source": [
        "# checking if column have nan values\n",
        "\n",
        "check_nan_in_df = df.isnull()\n",
        "print (check_nan_in_df)\n",
        "\n",
        "\n"
      ],
      "execution_count": 54,
      "outputs": [
        {
          "output_type": "stream",
          "text": [
            "      Unnamed: 0  title   text  label\n",
            "0          False  False  False  False\n",
            "1          False  False  False  False\n",
            "2          False  False  False  False\n",
            "3          False  False  False  False\n",
            "4          False  False  False  False\n",
            "...          ...    ...    ...    ...\n",
            "6330       False  False  False  False\n",
            "6331       False  False  False  False\n",
            "6332       False  False  False  False\n",
            "6333       False  False  False  False\n",
            "6334       False  False  False  False\n",
            "\n",
            "[6335 rows x 4 columns]\n"
          ],
          "name": "stdout"
        }
      ]
    },
    {
      "cell_type": "code",
      "metadata": {
        "id": "d69LU0ZGYRDv"
      },
      "source": [
        "# as data dont have any NaN value, we dont need to fill them"
      ],
      "execution_count": 55,
      "outputs": []
    },
    {
      "cell_type": "code",
      "metadata": {
        "colab": {
          "base_uri": "https://localhost:8080/"
        },
        "id": "fwaN06vHYRDv",
        "outputId": "d77db4c2-6e00-4dac-e1ff-9233bac86f52"
      },
      "source": [
        "#Getting the Labels\n",
        "\n",
        "labels=df.label\n",
        "labels.head()"
      ],
      "execution_count": 56,
      "outputs": [
        {
          "output_type": "execute_result",
          "data": {
            "text/plain": [
              "0    FAKE\n",
              "1    FAKE\n",
              "2    REAL\n",
              "3    FAKE\n",
              "4    REAL\n",
              "Name: label, dtype: object"
            ]
          },
          "metadata": {
            "tags": []
          },
          "execution_count": 56
        }
      ]
    },
    {
      "cell_type": "code",
      "metadata": {
        "colab": {
          "base_uri": "https://localhost:8080/",
          "height": 306
        },
        "id": "ss4f54xwYRDw",
        "outputId": "91132b91-e066-4b5e-f785-69eb137aea7e"
      },
      "source": [
        "# Combining important features into a single feature\n",
        "\n",
        "df['total'] = df['title'] + ' ' + df['text']\n",
        "\n",
        "df.head()"
      ],
      "execution_count": 57,
      "outputs": [
        {
          "output_type": "execute_result",
          "data": {
            "text/html": [
              "<div>\n",
              "<style scoped>\n",
              "    .dataframe tbody tr th:only-of-type {\n",
              "        vertical-align: middle;\n",
              "    }\n",
              "\n",
              "    .dataframe tbody tr th {\n",
              "        vertical-align: top;\n",
              "    }\n",
              "\n",
              "    .dataframe thead th {\n",
              "        text-align: right;\n",
              "    }\n",
              "</style>\n",
              "<table border=\"1\" class=\"dataframe\">\n",
              "  <thead>\n",
              "    <tr style=\"text-align: right;\">\n",
              "      <th></th>\n",
              "      <th>Unnamed: 0</th>\n",
              "      <th>title</th>\n",
              "      <th>text</th>\n",
              "      <th>label</th>\n",
              "      <th>total</th>\n",
              "    </tr>\n",
              "  </thead>\n",
              "  <tbody>\n",
              "    <tr>\n",
              "      <th>0</th>\n",
              "      <td>8476</td>\n",
              "      <td>You Can Smell Hillary’s Fear</td>\n",
              "      <td>Daniel Greenfield, a Shillman Journalism Fello...</td>\n",
              "      <td>FAKE</td>\n",
              "      <td>You Can Smell Hillary’s Fear Daniel Greenfield...</td>\n",
              "    </tr>\n",
              "    <tr>\n",
              "      <th>1</th>\n",
              "      <td>10294</td>\n",
              "      <td>Watch The Exact Moment Paul Ryan Committed Pol...</td>\n",
              "      <td>Google Pinterest Digg Linkedin Reddit Stumbleu...</td>\n",
              "      <td>FAKE</td>\n",
              "      <td>Watch The Exact Moment Paul Ryan Committed Pol...</td>\n",
              "    </tr>\n",
              "    <tr>\n",
              "      <th>2</th>\n",
              "      <td>3608</td>\n",
              "      <td>Kerry to go to Paris in gesture of sympathy</td>\n",
              "      <td>U.S. Secretary of State John F. Kerry said Mon...</td>\n",
              "      <td>REAL</td>\n",
              "      <td>Kerry to go to Paris in gesture of sympathy U....</td>\n",
              "    </tr>\n",
              "    <tr>\n",
              "      <th>3</th>\n",
              "      <td>10142</td>\n",
              "      <td>Bernie supporters on Twitter erupt in anger ag...</td>\n",
              "      <td>— Kaydee King (@KaydeeKing) November 9, 2016 T...</td>\n",
              "      <td>FAKE</td>\n",
              "      <td>Bernie supporters on Twitter erupt in anger ag...</td>\n",
              "    </tr>\n",
              "    <tr>\n",
              "      <th>4</th>\n",
              "      <td>875</td>\n",
              "      <td>The Battle of New York: Why This Primary Matters</td>\n",
              "      <td>It's primary day in New York and front-runners...</td>\n",
              "      <td>REAL</td>\n",
              "      <td>The Battle of New York: Why This Primary Matte...</td>\n",
              "    </tr>\n",
              "  </tbody>\n",
              "</table>\n",
              "</div>"
            ],
            "text/plain": [
              "   Unnamed: 0  ...                                              total\n",
              "0        8476  ...  You Can Smell Hillary’s Fear Daniel Greenfield...\n",
              "1       10294  ...  Watch The Exact Moment Paul Ryan Committed Pol...\n",
              "2        3608  ...  Kerry to go to Paris in gesture of sympathy U....\n",
              "3       10142  ...  Bernie supporters on Twitter erupt in anger ag...\n",
              "4         875  ...  The Battle of New York: Why This Primary Matte...\n",
              "\n",
              "[5 rows x 5 columns]"
            ]
          },
          "metadata": {
            "tags": []
          },
          "execution_count": 57
        }
      ]
    },
    {
      "cell_type": "code",
      "metadata": {
        "id": "0DGVLOHCYRDw"
      },
      "source": [
        "#PRE-PROCESSING THE DATA\n"
      ],
      "execution_count": 58,
      "outputs": []
    },
    {
      "cell_type": "code",
      "metadata": {
        "colab": {
          "base_uri": "https://localhost:8080/",
          "height": 306
        },
        "id": "XX8rMmduYRDx",
        "outputId": "81455cf9-c45a-4a77-8087-3ec92866ce50"
      },
      "source": [
        "\n",
        "stop_words = stopwords.words('english')\n",
        "\n",
        "lemmatizer = WordNetLemmatizer()\n",
        "\n",
        "for index, row in df.iterrows():\n",
        "    filter_sentence = ''\n",
        "    sentence = row['total']\n",
        "    # Cleaning the sentence with regex\n",
        "    sentence = re.sub(r'[^\\w\\s]', '', sentence)\n",
        "    # Tokenization\n",
        "    words = nltk.word_tokenize(sentence)\n",
        "    # Stopwords removal\n",
        "    words = [w for w in words if not w in stop_words]\n",
        "    # Lemmatization\n",
        "    for words in words:\n",
        "        filter_sentence = filter_sentence  + ' ' + str(lemmatizer.lemmatize(words)).lower()\n",
        "    \n",
        "    df.loc[index, 'total'] = filter_sentence\n",
        "\n",
        "df.head()"
      ],
      "execution_count": 59,
      "outputs": [
        {
          "output_type": "execute_result",
          "data": {
            "text/html": [
              "<div>\n",
              "<style scoped>\n",
              "    .dataframe tbody tr th:only-of-type {\n",
              "        vertical-align: middle;\n",
              "    }\n",
              "\n",
              "    .dataframe tbody tr th {\n",
              "        vertical-align: top;\n",
              "    }\n",
              "\n",
              "    .dataframe thead th {\n",
              "        text-align: right;\n",
              "    }\n",
              "</style>\n",
              "<table border=\"1\" class=\"dataframe\">\n",
              "  <thead>\n",
              "    <tr style=\"text-align: right;\">\n",
              "      <th></th>\n",
              "      <th>Unnamed: 0</th>\n",
              "      <th>title</th>\n",
              "      <th>text</th>\n",
              "      <th>label</th>\n",
              "      <th>total</th>\n",
              "    </tr>\n",
              "  </thead>\n",
              "  <tbody>\n",
              "    <tr>\n",
              "      <th>0</th>\n",
              "      <td>8476</td>\n",
              "      <td>You Can Smell Hillary’s Fear</td>\n",
              "      <td>Daniel Greenfield, a Shillman Journalism Fello...</td>\n",
              "      <td>FAKE</td>\n",
              "      <td>you can smell hillarys fear daniel greenfield...</td>\n",
              "    </tr>\n",
              "    <tr>\n",
              "      <th>1</th>\n",
              "      <td>10294</td>\n",
              "      <td>Watch The Exact Moment Paul Ryan Committed Pol...</td>\n",
              "      <td>Google Pinterest Digg Linkedin Reddit Stumbleu...</td>\n",
              "      <td>FAKE</td>\n",
              "      <td>watch the exact moment paul ryan committed po...</td>\n",
              "    </tr>\n",
              "    <tr>\n",
              "      <th>2</th>\n",
              "      <td>3608</td>\n",
              "      <td>Kerry to go to Paris in gesture of sympathy</td>\n",
              "      <td>U.S. Secretary of State John F. Kerry said Mon...</td>\n",
              "      <td>REAL</td>\n",
              "      <td>kerry go paris gesture sympathy us secretary ...</td>\n",
              "    </tr>\n",
              "    <tr>\n",
              "      <th>3</th>\n",
              "      <td>10142</td>\n",
              "      <td>Bernie supporters on Twitter erupt in anger ag...</td>\n",
              "      <td>— Kaydee King (@KaydeeKing) November 9, 2016 T...</td>\n",
              "      <td>FAKE</td>\n",
              "      <td>bernie supporter twitter erupt anger dnc we t...</td>\n",
              "    </tr>\n",
              "    <tr>\n",
              "      <th>4</th>\n",
              "      <td>875</td>\n",
              "      <td>The Battle of New York: Why This Primary Matters</td>\n",
              "      <td>It's primary day in New York and front-runners...</td>\n",
              "      <td>REAL</td>\n",
              "      <td>the battle new york why this primary matters ...</td>\n",
              "    </tr>\n",
              "  </tbody>\n",
              "</table>\n",
              "</div>"
            ],
            "text/plain": [
              "   Unnamed: 0  ...                                              total\n",
              "0        8476  ...   you can smell hillarys fear daniel greenfield...\n",
              "1       10294  ...   watch the exact moment paul ryan committed po...\n",
              "2        3608  ...   kerry go paris gesture sympathy us secretary ...\n",
              "3       10142  ...   bernie supporter twitter erupt anger dnc we t...\n",
              "4         875  ...   the battle new york why this primary matters ...\n",
              "\n",
              "[5 rows x 5 columns]"
            ]
          },
          "metadata": {
            "tags": []
          },
          "execution_count": 59
        }
      ]
    },
    {
      "cell_type": "code",
      "metadata": {
        "colab": {
          "base_uri": "https://localhost:8080/"
        },
        "id": "-TJlbcLQYRDy",
        "outputId": "c85b0611-e9eb-475c-d1b3-ed6c934db68d"
      },
      "source": [
        "df['total'].head()"
      ],
      "execution_count": 60,
      "outputs": [
        {
          "output_type": "execute_result",
          "data": {
            "text/plain": [
              "0     you can smell hillarys fear daniel greenfield...\n",
              "1     watch the exact moment paul ryan committed po...\n",
              "2     kerry go paris gesture sympathy us secretary ...\n",
              "3     bernie supporter twitter erupt anger dnc we t...\n",
              "4     the battle new york why this primary matters ...\n",
              "Name: total, dtype: object"
            ]
          },
          "metadata": {
            "tags": []
          },
          "execution_count": 60
        }
      ]
    },
    {
      "cell_type": "code",
      "metadata": {
        "colab": {
          "base_uri": "https://localhost:8080/"
        },
        "id": "OXI30oavYRDy",
        "outputId": "19cccb5c-6709-46d3-e6ef-6744b75a4155"
      },
      "source": [
        "print(type(df['label']))"
      ],
      "execution_count": 61,
      "outputs": [
        {
          "output_type": "stream",
          "text": [
            "<class 'pandas.core.series.Series'>\n"
          ],
          "name": "stdout"
        }
      ]
    },
    {
      "cell_type": "code",
      "metadata": {
        "colab": {
          "base_uri": "https://localhost:8080/",
          "height": 298
        },
        "id": "eBsEnHOoYRDz",
        "outputId": "f87a5187-2f76-4e62-9f7a-5acc32b627af"
      },
      "source": [
        "df['label'].value_counts().plot(kind = 'bar')"
      ],
      "execution_count": 62,
      "outputs": [
        {
          "output_type": "execute_result",
          "data": {
            "text/plain": [
              "<matplotlib.axes._subplots.AxesSubplot at 0x7f97519294a8>"
            ]
          },
          "metadata": {
            "tags": []
          },
          "execution_count": 62
        },
        {
          "output_type": "display_data",
          "data": {
            "image/png": "[encoded data removed]",
            "text/plain": [
              "<Figure size 432x288 with 1 Axes>"
            ]
          },
          "metadata": {
            "tags": [],
            "needs_background": "light"
          }
        }
      ]
    },
    {
      "cell_type": "code",
      "metadata": {
        "colab": {
          "base_uri": "https://localhost:8080/"
        },
        "id": "YGclXuVlYRDz",
        "outputId": "3ccd0eee-ae46-4e89-ebf9-eda95d7ca5d4"
      },
      "source": [
        "df.label = df.label.astype(str)\n",
        "df.label.unique()\n"
      ],
      "execution_count": 63,
      "outputs": [
        {
          "output_type": "execute_result",
          "data": {
            "text/plain": [
              "array(['FAKE', 'REAL'], dtype=object)"
            ]
          },
          "metadata": {
            "tags": []
          },
          "execution_count": 63
        }
      ]
    },
    {
      "cell_type": "code",
      "metadata": {
        "colab": {
          "base_uri": "https://localhost:8080/"
        },
        "id": "q2R6hpqfYRDz",
        "outputId": "66ac1220-d08e-4298-db5b-450fb5102160"
      },
      "source": [
        "df.label = df.label.astype(str)\n",
        "df.label = df.label.str.strip()\n",
        "\n",
        "\n",
        "dict = { 'REAL' : '1' , 'FAKE' : '0'}\n",
        "\n",
        "df['label'] = df['label'].map(dict)\n",
        "\n",
        "df['label'].head()"
      ],
      "execution_count": 64,
      "outputs": [
        {
          "output_type": "execute_result",
          "data": {
            "text/plain": [
              "0    0\n",
              "1    0\n",
              "2    1\n",
              "3    0\n",
              "4    1\n",
              "Name: label, dtype: object"
            ]
          },
          "metadata": {
            "tags": []
          },
          "execution_count": 64
        }
      ]
    },
    {
      "cell_type": "code",
      "metadata": {
        "id": "7rFlO44WYRD0"
      },
      "source": [
        "x_df = df['total']\n",
        "y_df = df['label']"
      ],
      "execution_count": 65,
      "outputs": []
    },
    {
      "cell_type": "code",
      "metadata": {
        "colab": {
          "base_uri": "https://localhost:8080/"
        },
        "id": "vQw-nIR_YRD0",
        "outputId": "5fbf618b-3d2b-4b65-e9fa-b81f3c4d81bf"
      },
      "source": [
        "x_df.head()"
      ],
      "execution_count": 66,
      "outputs": [
        {
          "output_type": "execute_result",
          "data": {
            "text/plain": [
              "0     you can smell hillarys fear daniel greenfield...\n",
              "1     watch the exact moment paul ryan committed po...\n",
              "2     kerry go paris gesture sympathy us secretary ...\n",
              "3     bernie supporter twitter erupt anger dnc we t...\n",
              "4     the battle new york why this primary matters ...\n",
              "Name: total, dtype: object"
            ]
          },
          "metadata": {
            "tags": []
          },
          "execution_count": 66
        }
      ]
    },
    {
      "cell_type": "code",
      "metadata": {
        "colab": {
          "base_uri": "https://localhost:8080/"
        },
        "id": "5PKb64E-YRD1",
        "outputId": "060deef7-a3e9-443c-a6ea-4d92f1c70d43"
      },
      "source": [
        "y_df.head()"
      ],
      "execution_count": 67,
      "outputs": [
        {
          "output_type": "execute_result",
          "data": {
            "text/plain": [
              "0    0\n",
              "1    0\n",
              "2    1\n",
              "3    0\n",
              "4    1\n",
              "Name: label, dtype: object"
            ]
          },
          "metadata": {
            "tags": []
          },
          "execution_count": 67
        }
      ]
    },
    {
      "cell_type": "code",
      "metadata": {
        "id": "weL2ZOh7YRD1"
      },
      "source": [
        "#VECOTRIZATION\n"
      ],
      "execution_count": 68,
      "outputs": []
    },
    {
      "cell_type": "code",
      "metadata": {
        "colab": {
          "base_uri": "https://localhost:8080/"
        },
        "id": "fvKMBnALYRD1",
        "outputId": "4b3541fb-f26f-4a34-a909-a0072d475fd4"
      },
      "source": [
        "from sklearn.feature_extraction.text import TfidfTransformer\n",
        "from sklearn.feature_extraction.text import CountVectorizer\n",
        "from sklearn.feature_extraction.text import TfidfVectorizer\n",
        "\n",
        "\n",
        "\n",
        "count_vectorizer = CountVectorizer()\n",
        "count_vectorizer.fit_transform(x_df)\n",
        "freq_term_matrix = count_vectorizer.transform(x_df)\n",
        "\n",
        "tfidf = TfidfTransformer(norm = \"l2\")\n",
        "tfidf.fit(freq_term_matrix)\n",
        "tf_idf_matrix = tfidf.fit_transform(freq_term_matrix)\n",
        "\n",
        "print(tf_idf_matrix)"
      ],
      "execution_count": 69,
      "outputs": [
        {
          "output_type": "stream",
          "text": [
            "  (0, 84103)\t0.02880344134538735\n",
            "  (0, 84077)\t0.03002128664210717\n",
            "  (0, 83877)\t0.018607343328196482\n",
            "  (0, 83514)\t0.03653774133019167\n",
            "  (0, 83492)\t0.023707364893939736\n",
            "  (0, 83447)\t0.03586754816546842\n",
            "  (0, 83403)\t0.02695875045200971\n",
            "  (0, 83396)\t0.019835943175965133\n",
            "  (0, 83392)\t0.008585159602852022\n",
            "  (0, 83218)\t0.01572657851425174\n",
            "  (0, 83110)\t0.014470516380511316\n",
            "  (0, 83004)\t0.027822220268486773\n",
            "  (0, 83003)\t0.016460792307242865\n",
            "  (0, 82929)\t0.03833530820382529\n",
            "  (0, 82841)\t0.024379366941566442\n",
            "  (0, 82678)\t0.0346212287472953\n",
            "  (0, 82578)\t0.035082475533552405\n",
            "  (0, 82545)\t0.018051125993657446\n",
            "  (0, 82391)\t0.013651104872461956\n",
            "  (0, 82373)\t0.014279148105824169\n",
            "  (0, 82346)\t0.018685412875057213\n",
            "  (0, 82339)\t0.060996642075652405\n",
            "  (0, 82073)\t0.01138273361804669\n",
            "  (0, 82023)\t0.03043943380028792\n",
            "  (0, 81896)\t0.04220672992179989\n",
            "  :\t:\n",
            "  (6334, 9343)\t0.06663788710149954\n",
            "  (6334, 9341)\t0.09390119973816259\n",
            "  (6334, 9232)\t0.01929156802079928\n",
            "  (6334, 8729)\t0.01751752612849853\n",
            "  (6334, 8631)\t0.03314648822581055\n",
            "  (6334, 8584)\t0.032880405646402766\n",
            "  (6334, 8554)\t0.026438677499817233\n",
            "  (6334, 8334)\t0.05165463029655788\n",
            "  (6334, 8267)\t0.0388071381665498\n",
            "  (6334, 8241)\t0.02574196238544902\n",
            "  (6334, 8238)\t0.02645424254375812\n",
            "  (6334, 8232)\t0.05462537789001593\n",
            "  (6334, 8105)\t0.034228756253996344\n",
            "  (6334, 7424)\t0.030982509754340935\n",
            "  (6334, 7333)\t0.013646914039640313\n",
            "  (6334, 7322)\t0.03816721468972994\n",
            "  (6334, 6849)\t0.023263047270567164\n",
            "  (6334, 6547)\t0.03273257191471888\n",
            "  (6334, 5935)\t0.028738104471802604\n",
            "  (6334, 5540)\t0.03251624806904254\n",
            "  (6334, 5056)\t0.016593482188606904\n",
            "  (6334, 3644)\t0.05685197265050367\n",
            "  (6334, 2203)\t0.02661173208457374\n",
            "  (6334, 2181)\t0.04498306799598561\n",
            "  (6334, 1838)\t0.015008031312217405\n"
          ],
          "name": "stdout"
        }
      ]
    },
    {
      "cell_type": "code",
      "metadata": {
        "id": "u5k1zikmYRD2"
      },
      "source": [
        "#Splitting data into train and test data\n",
        "\n",
        "x_train, x_test, y_train, y_test = train_test_split(tf_idf_matrix,\n",
        "                                   y_df, random_state=0)"
      ],
      "execution_count": 70,
      "outputs": []
    },
    {
      "cell_type": "code",
      "metadata": {
        "id": "JLkJyW-mYRD2"
      },
      "source": [
        "#Implementing DIfferent Models and checking accuracy\n"
      ],
      "execution_count": 71,
      "outputs": []
    },
    {
      "cell_type": "code",
      "metadata": {
        "colab": {
          "base_uri": "https://localhost:8080/"
        },
        "id": "ZRz595r5YRD2",
        "outputId": "7a941f35-0606-4c06-ae70-b0a3dbefd06b"
      },
      "source": [
        "y_train.head()"
      ],
      "execution_count": 72,
      "outputs": [
        {
          "output_type": "execute_result",
          "data": {
            "text/plain": [
              "1957    1\n",
              "5016    1\n",
              "3166    1\n",
              "811     0\n",
              "3389    1\n",
              "Name: label, dtype: object"
            ]
          },
          "metadata": {
            "tags": []
          },
          "execution_count": 72
        }
      ]
    },
    {
      "cell_type": "code",
      "metadata": {
        "colab": {
          "base_uri": "https://localhost:8080/"
        },
        "id": "N1Ydarh3YRD2",
        "outputId": "6f51b5cb-60fd-4ade-acb2-2962b1e6b93d"
      },
      "source": [
        "#LOGISTIC REGRESSION\n",
        "\n",
        "\n",
        "from sklearn.linear_model import LogisticRegression\n",
        "\n",
        "logreg = LogisticRegression()\n",
        "logreg.fit(x_train, y_train)\n",
        "Accuracy = logreg.score(x_test, y_test)\n",
        "\n",
        "print(Accuracy*100)"
      ],
      "execution_count": 73,
      "outputs": [
        {
          "output_type": "stream",
          "text": [
            "91.72979797979798\n"
          ],
          "name": "stdout"
        }
      ]
    },
    {
      "cell_type": "code",
      "metadata": {
        "colab": {
          "base_uri": "https://localhost:8080/"
        },
        "id": "i_Qd9PKaYRD3",
        "outputId": "ce53f0da-575d-4089-b52f-05925ee7e9d5"
      },
      "source": [
        "#NAIVE BAYES\n",
        "\n",
        "from sklearn.naive_bayes import MultinomialNB\n",
        "\n",
        "\n",
        "NB = MultinomialNB()\n",
        "NB.fit(x_train, y_train)\n",
        "Accuracy = NB.score(x_test, y_test)\n",
        "\n",
        "print(Accuracy*100)"
      ],
      "execution_count": 74,
      "outputs": [
        {
          "output_type": "stream",
          "text": [
            "82.32323232323232\n"
          ],
          "name": "stdout"
        }
      ]
    },
    {
      "cell_type": "code",
      "metadata": {
        "colab": {
          "base_uri": "https://localhost:8080/"
        },
        "id": "vpuwvodMYRD7",
        "outputId": "e9597ff1-632f-4789-b8fb-2507dadce40e"
      },
      "source": [
        "# DECISION TREE\n",
        "\n",
        "from sklearn.tree import DecisionTreeClassifier\n",
        "\n",
        "\n",
        "clf = DecisionTreeClassifier()\n",
        "clf.fit(x_train, y_train)\n",
        "Accuracy = clf.score(x_test, y_test)\n",
        "\n",
        "print(Accuracy*100)"
      ],
      "execution_count": 75,
      "outputs": [
        {
          "output_type": "stream",
          "text": [
            "81.18686868686868\n"
          ],
          "name": "stdout"
        }
      ]
    },
    {
      "cell_type": "code",
      "metadata": {
        "colab": {
          "base_uri": "https://localhost:8080/"
        },
        "id": "1ZDJwE3BYRD7",
        "outputId": "1b1234a2-d18b-4d53-eee5-bc3bd92e6296"
      },
      "source": [
        "# PASSIVE-AGGRESSIVE CLASSIFIER\n",
        "\n",
        "from sklearn.metrics import accuracy_score\n",
        "\n",
        "from sklearn.linear_model import PassiveAggressiveClassifier\n",
        "\n",
        "#DataFlair - Initialize a PassiveAggressiveClassifier\n",
        "pac=PassiveAggressiveClassifier(max_iter=50)\n",
        "pac.fit(x_train,y_train)\n",
        "#DataFlair - Predict on the test set and calculate accuracy\n",
        "y_pred=pac.predict(x_test)\n",
        "score=accuracy_score(y_test,y_pred)\n",
        "\n",
        "print(f'Accuracy: {round(score*100,2)}%')\n",
        "\n",
        "\n"
      ],
      "execution_count": 76,
      "outputs": [
        {
          "output_type": "stream",
          "text": [
            "Accuracy: 93.88%\n"
          ],
          "name": "stdout"
        }
      ]
    },
    {
      "cell_type": "code",
      "metadata": {
        "colab": {
          "base_uri": "https://localhost:8080/"
        },
        "id": "8WAiHgoRYRD9",
        "outputId": "2617c069-a8e2-4215-92cf-9b64bbd90ae6"
      },
      "source": [
        "# Linear classifiers with SGD(Stochastic Gradient Descent) training\n",
        "from sklearn.linear_model import SGDClassifier\n",
        "\n",
        "sgd = SGDClassifier(max_iter=1000, tol=1e-5)\n",
        "sgd.fit(x_train,y_train)\n",
        "y_pred=sgd.predict(x_test)\n",
        "score=accuracy_score(y_test,y_pred)\n",
        "\n",
        "print(f'Accuracy: {round(score*100,2)}%')\n"
      ],
      "execution_count": 77,
      "outputs": [
        {
          "output_type": "stream",
          "text": [
            "Accuracy: 94.07%\n"
          ],
          "name": "stdout"
        }
      ]
    },
    {
      "cell_type": "code",
      "metadata": {
        "colab": {
          "base_uri": "https://localhost:8080/"
        },
        "id": "5lPoC1QpYRD9",
        "outputId": "258783f4-1483-4bb9-c99c-4d36f9798081"
      },
      "source": [
        "# Linear Support Vector Classification\n",
        "from sklearn.svm import LinearSVC\n",
        "\n",
        "clf = LinearSVC(random_state=0, tol=1e-5)\n",
        "clf.fit(x_train,y_train)\n",
        "y_pred=clf.predict(x_test)\n",
        "score=accuracy_score(y_test,y_pred)\n",
        "\n",
        "print(f'Accuracy: {round(score*100,2)}%')"
      ],
      "execution_count": 78,
      "outputs": [
        {
          "output_type": "stream",
          "text": [
            "Accuracy: 93.81%\n"
          ],
          "name": "stdout"
        }
      ]
    },
    {
      "cell_type": "code",
      "metadata": {
        "id": "rxkt1MI4ZvZY"
      },
      "source": [
        ""
      ],
      "execution_count": null,
      "outputs": []
    }
  ]
}